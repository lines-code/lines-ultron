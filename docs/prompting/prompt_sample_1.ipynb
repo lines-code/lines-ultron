{
 "cells": [
  {
   "cell_type": "markdown",
   "metadata": {},
   "source": [
    "# Prompting을 활용한 데이터 검출 사례 \n",
    "\n",
    "특정 키워드(보안 위협 요소를 체크하는 키워드)를 추출하기 위해서 사용한 프롬프트 템플릿 사례, 기존에 두루 사용하는 예시에서 일부 항목에 대해서만 프로세스를 개선하여 작업을 수행하였다. \n",
    "\n",
    "\n",
    "## 프롬프트 개선 과정에 따라서 \n",
    "\n",
    "- 추상적인 의미를 가지는 단어 제거 \n",
    "- each 문구의 활용 \n",
    "- 보상 적용\n",
    "  - I'm going to a tip $xxx for a better solution\n",
    "- must 적용"
   ]
  },
  {
   "cell_type": "code",
   "execution_count": null,
   "metadata": {},
   "outputs": [],
   "source": [
    "%%capture\n",
    "# update or install the necessary libraries\n",
    "%pip install --upgrade openai\n",
    "%pip install --upgrade langchain\n",
    "%pip install --upgrade langchain_community\n",
    "%pip install --upgrade python-dotenv"
   ]
  },
  {
   "cell_type": "code",
   "execution_count": null,
   "metadata": {},
   "outputs": [],
   "source": [
    "from langchain.pydantic_v1 import BaseModel, Field\n",
    "from langchain_core.prompts import PromptTemplate\n",
    "\n",
    "template = \"\"\"Your are a {domain expoert} expert and {domian needs}\n",
    "I'm going to a tip $xxx for a better solution.  \n",
    "Let's think step by step.\n",
    "\n",
    "###Output :###\n",
    "\n",
    "1. To determine if a requirement is related with {domain}, you must to check the exact each keyword of {{Keyword1}} \n",
    "2. Provide detail reasoning for your determiation fo whether it pertains to {{domain}} with {{keyword_format_from_description}}\n",
    "3. After providing reasoning content, indicate [yes] or [no]\n",
    "4. Ensure your response follows this format : \"{{keyword of {domain}}}, {{reasoning of description for keywords}}\" \n",
    "5. {{reasoning of description for keywords}} must be summarized within 5 lines. \n",
    "\n",
    "\n",
    "Refer to below ###Keyword1###, Please let me know ###Keyword2### of {domain} items \n",
    "\n",
    "###Keyword1###\n",
    ": {}\n",
    "\n",
    "###The given paragraph### \n",
    ": {}\n",
    "\n",
    "###Format Instruction### \n",
    ": {format_instructions}\n",
    "\n",
    "\"\"\"\n",
    "\n",
    "class SampleOutput(BaseModel):\n",
    "  \"Domain Ouput Pydantic Class\"\n",
    "  field1 : bool = Field(description=\"~~~~~? Y/N\")\n",
    "  field2 : str = Field(description=\"~~~~~ long string format\")\n",
    "\n",
    "content=\"\"\"[Keyword]\n",
    "*Keyword \n",
    "- \n",
    "- \n",
    "\n",
    "*Reasoning \n",
    "- \n",
    "-\n",
    "\"\"\"\n",
    "\n",
    "prompt_template = PromptTemplate(\n",
    "    template=template, \n",
    "    input_variables=content, \n",
    "    partial_variables={\n",
    "      \"format_instructions\" : PydanticOutputParser(pydantic_object=SampleOutput) \n",
    "    }\n",
    ")\n",
    "\n"
   ]
  }
 ],
 "metadata": {
  "kernelspec": {
   "display_name": "Python 3",
   "language": "python",
   "name": "python3"
  },
  "language_info": {
   "name": "python",
   "version": "3.10.15"
  }
 },
 "nbformat": 4,
 "nbformat_minor": 2
}
